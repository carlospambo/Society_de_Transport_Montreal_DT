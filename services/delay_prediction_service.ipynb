{
 "cells": [
  {
   "cell_type": "code",
   "execution_count": null,
   "id": "90091347-6110-40be-9b3e-afb975524668",
   "metadata": {},
   "outputs": [],
   "source": [
    "import matplotlib.pyplot as plt\n",
    "import pandas as pd\n",
    "\n",
    "csv_file_path = '../datasets/20250301-buses.csv'\n",
    "columns_to_be_dropped = ['_id', 'vehicle.trip.trip_id', 'vehicle.position.speed', 'vehicle.vehicle.id',\n",
    "                         'vehicle.congestion_level',]\n",
    "\n",
    "data = pd.read_csv(csv_file_path)\n",
    "data = data.drop(columns_to_be_dropped, axis=1)\n",
    "data.head(10)\n",
    "\n",
    "\n",
    "# READ: A GTFS data acquisition and processing framework and its application to train delay prediction\n",
    "# https://www.sciencedirect.com/science/article/pii/S2046043022000090"
   ]
  }
 ],
 "metadata": {
  "kernelspec": {
   "display_name": "Python 3 (ipykernel)",
   "language": "python",
   "name": "python3"
  },
  "language_info": {
   "codemirror_mode": {
    "name": "ipython",
    "version": 3
   },
   "file_extension": ".py",
   "mimetype": "text/x-python",
   "name": "python",
   "nbconvert_exporter": "python",
   "pygments_lexer": "ipython3",
   "version": "3.12.7"
  }
 },
 "nbformat": 4,
 "nbformat_minor": 5
}
