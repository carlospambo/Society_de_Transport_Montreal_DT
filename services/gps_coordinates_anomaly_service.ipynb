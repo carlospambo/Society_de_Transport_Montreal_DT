{
 "cells": [
  {
   "cell_type": "code",
   "execution_count": 1,
   "id": "e6f28bc8-5056-4e3e-9053-3e05c30f74c5",
   "metadata": {},
   "outputs": [],
   "source": [
    "import sys\n",
    "import os\n",
    "import time\n",
    "import subprocess\n",
    "from pyhocon import ConfigFactory\n",
    "\n",
    "\n",
    "# Configure python path to load modules\n",
    "# Get the current working directory. Should be 'services'\n",
    "current_dir = os.getcwd()\n",
    "\n",
    "assert os.path.basename(current_dir) == 'services', 'Current directory is not services'\n",
    "\n",
    "# Get the parent directory. Should be the root of the repository\n",
    "parent_dir = os.path.dirname(current_dir)\n",
    "\n",
    "# The root of the repo should contain the 'software' folder. Otherwise, something went wrong.\n",
    "assert os.path.exists(os.path.join(parent_dir, 'software')), 'software folder not found in the repository root'\n",
    "\n",
    "stm_dt_software_dir = os.path.join(parent_dir, 'software')\n",
    "\n",
    "assert os.path.exists(stm_dt_software_dir), 'stm_dt/software directory not found'\n",
    "\n",
    "# Add the parent directory to sys.path\n",
    "sys.path.append(stm_dt_software_dir)\n",
    "\n",
    "# Import RPCClient class from STM DT, which makes connecting to RabbitMQ and calling remote methods easier.\n",
    "from communication.rpc_client import RPCClient\n"
   ]
  },
  {
   "cell_type": "code",
   "execution_count": 2,
   "id": "81109c5c-4f4c-463d-84f2-95ede7182801",
   "metadata": {},
   "outputs": [
    {
     "name": "stdout",
     "output_type": "stream",
     "text": [
      "2025-03-19 20:34:38.968 INFO MongoDb : log6953fe_db database exists.\n",
      "2025-03-19 20:34:38.968 INFO MongoDb : bus_stops collection exists in database log6953fe_db.\n",
      "2025-03-19 20:34:38.981 INFO GPSCoordinatesAnomalyService : GPSCoordinatesAnomalyService setup complete.\n",
      "24561\n"
     ]
    }
   ],
   "source": [
    "# Start the process asynchronously\n",
    "service_proc = subprocess.Popen([sys.executable, \"gps_telemetry_validation_service.py\"])\n",
    "\n",
    "# Wait for 5 seconds for the process to start\n",
    "time.sleep(5)\n",
    "\n",
    "# Print the PID of the process.\n",
    "print(service_proc.pid)\n"
   ]
  },
  {
   "cell_type": "code",
   "execution_count": 3,
   "id": "1ae1f588-9dae-4a91-9c40-b99d2c1e90e6",
   "metadata": {},
   "outputs": [
    {
     "name": "stdout",
     "output_type": "stream",
     "text": [
      "\n"
     ]
    }
   ],
   "source": [
    "# Print contents of log file to verify that the service is running\n",
    "\n",
    "with open('logs/dt.log', 'w+') as f:\n",
    "    print(f.read())\n",
    "\n",
    "# Check process has not crashed\n",
    "assert service_proc.poll() is None, \"GPSCoordinatesAnomalyService process has crashed\"\n"
   ]
  },
  {
   "metadata": {},
   "cell_type": "code",
   "outputs": [],
   "execution_count": null,
   "source": [
    "# Get config\n",
    "import time\n",
    "startup_conf = os.path.join(os.path.dirname(os.getcwd()), 'software', 'config', 'startup.conf')\n",
    "config = ConfigFactory.parse_file(startup_conf)\n",
    "\n",
    "with RPCClient(**(config[\"rabbitmq\"])) as client:\n",
    "    data = {\n",
    "        \"source\": \"stm_api_bus_update\",\n",
    "        \"time\": time.time_ns(),\n",
    "        \"tags\": {\n",
    "            \"source\": \"stm_api_bus_update\"\n",
    "        },\n",
    "        'data': [\n",
    "            {\n",
    "                'route_id': 121,\n",
    "                'stop_sequence': 10,\n",
    "                'latitude': 45.565391,\n",
    "                'longitude': -73.646170\n",
    "            }\n",
    "        ]\n",
    "    }\n",
    "    \n",
    "    reply = client.invoke_method(\"gps.coordinates.validation.service\", \"validate_gps_coordinates\", {\"payload\": data})\n",
    "    print(reply)\n",
    "\n",
    "# Check process has not crashed\n",
    "assert service_proc.poll() is None, \"GPSCoordinatesValidationService process has crashed\"\n"
   ],
   "id": "d4b47a764b8743d8"
  },
  {
   "metadata": {},
   "cell_type": "code",
   "outputs": [],
   "execution_count": null,
   "source": "",
   "id": "d350c0d644a8772b"
  }
 ],
 "metadata": {
  "kernelspec": {
   "display_name": "Python 3 (ipykernel)",
   "language": "python",
   "name": "python3"
  },
  "language_info": {
   "codemirror_mode": {
    "name": "ipython",
    "version": 3
   },
   "file_extension": ".py",
   "mimetype": "text/x-python",
   "name": "python",
   "nbconvert_exporter": "python",
   "pygments_lexer": "ipython3",
   "version": "3.12.7"
  }
 },
 "nbformat": 4,
 "nbformat_minor": 5
}
