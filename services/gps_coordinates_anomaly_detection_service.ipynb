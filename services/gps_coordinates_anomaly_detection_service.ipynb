{
 "cells": [
  {
   "cell_type": "code",
   "id": "e6f28bc8-5056-4e3e-9053-3e05c30f74c5",
   "metadata": {},
   "source": [
    "import sys\n",
    "import os\n",
    "import time\n",
    "import subprocess\n",
    "from pyhocon import ConfigFactory\n",
    "\n",
    "\n",
    "# Configure python path to load modules\n",
    "# Get the current working directory. Should be 'services'\n",
    "current_dir = os.getcwd()\n",
    "\n",
    "assert os.path.basename(current_dir) == 'services', 'Current directory is not services'\n",
    "\n",
    "# Get the parent directory. Should be the root of the repository\n",
    "parent_dir = os.path.dirname(current_dir)\n",
    "\n",
    "# The root of the repo should contain the 'software' folder. Otherwise, something went wrong.\n",
    "assert os.path.exists(os.path.join(parent_dir, 'software')), 'software folder not found in the repository root'\n",
    "\n",
    "stm_dt_software_dir = os.path.join(parent_dir, 'software')\n",
    "\n",
    "assert os.path.exists(stm_dt_software_dir), 'stm_dt/software directory not found'\n",
    "\n",
    "# Add the parent directory to sys.path\n",
    "sys.path.append(stm_dt_software_dir)\n",
    "\n",
    "# Import RPCClient class from STM DT, which makes connecting to RabbitMQ and calling remote methods easier.\n",
    "from communication.rpc_client import RPCClient\n"
   ],
   "outputs": [],
   "execution_count": null
  },
  {
   "cell_type": "code",
   "id": "81109c5c-4f4c-463d-84f2-95ede7182801",
   "metadata": {},
   "source": [
    "# Start the process asynchronously\n",
    "service_proc = subprocess.Popen([sys.executable, \"gps_coordinates_anomaly_service.py\"])\n",
    "\n",
    "# Wait for 5 seconds for the process to start\n",
    "time.sleep(5)\n",
    "\n",
    "# Print the PID of the process.\n",
    "print(service_proc.pid)"
   ],
   "outputs": [],
   "execution_count": null
  },
  {
   "cell_type": "code",
   "id": "1ae1f588-9dae-4a91-9c40-b99d2c1e90e6",
   "metadata": {},
   "source": [
    "# Print contents of log file to verify that the service is running\n",
    "\n",
    "with open('gps_coordinates_anomaly_service.log', 'w+') as f:\n",
    "    print(f.read())\n",
    "\n",
    "# Check process has not crashed\n",
    "assert service_proc.poll() is None, \"GPSCoordinatesAnomalyService process has crashed\"\n"
   ],
   "outputs": [],
   "execution_count": null
  },
  {
   "cell_type": "code",
   "id": "f9a6563d-7a9c-4b33-9941-b7c603c1e531",
   "metadata": {},
   "source": [
    "# Get config\n",
    "startup_conf = os.path.join(os.path.dirname(os.getcwd()), 'software', 'config', 'startup.conf')\n",
    "config = ConfigFactory.parse_file(startup_conf)\n",
    "\n",
    "with RPCClient(**(config[\"rabbitmq\"])) as client:\n",
    "    reply = client.invoke_method(\"gps.coordinates.anomaly.service\", \"validate_gps_coordinates\", {\"data\": {123: [(45.990, -78.908)]}})\n",
    "    print(reply)\n",
    "    assert 'results' in reply, \"Reply message does not have key 'results'\"\n",
    "    assert reply[\"results\"].lower() == 'ok', \"Reply message key 'results' is not equal to 'ok'\"\n",
    "\n",
    "# Check process has not crashed\n",
    "assert service_proc.poll() is None, \"GPSCoordinatesAnomalyService process has crashed\"\n"
   ],
   "outputs": [],
   "execution_count": null
  },
  {
   "cell_type": "code",
   "id": "7214fc5f-9bec-4c1d-a1f8-0c25a1df52b0",
   "metadata": {},
   "source": [],
   "outputs": [],
   "execution_count": null
  }
 ],
 "metadata": {
  "kernelspec": {
   "display_name": "Python 3 (ipykernel)",
   "language": "python",
   "name": "python3"
  },
  "language_info": {
   "codemirror_mode": {
    "name": "ipython",
    "version": 3
   },
   "file_extension": ".py",
   "mimetype": "text/x-python",
   "name": "python",
   "nbconvert_exporter": "python",
   "pygments_lexer": "ipython3",
   "version": "3.12.7"
  }
 },
 "nbformat": 4,
 "nbformat_minor": 5
}
