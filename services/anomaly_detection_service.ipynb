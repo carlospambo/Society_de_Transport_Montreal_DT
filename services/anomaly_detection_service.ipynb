{
 "cells": [
  {
   "cell_type": "code",
   "execution_count": 23,
   "id": "e6f28bc8-5056-4e3e-9053-3e05c30f74c5",
   "metadata": {},
   "outputs": [],
   "source": [
    "import sys\n",
    "import os\n",
    "import logging\n",
    "import time\n",
    "import subprocess\n",
    "from pyhocon import ConfigFactory\n",
    "\n",
    "\n",
    "# Configure python path to load modules\n",
    "# Get the current working directory. Should be 'services'\n",
    "current_dir = os.getcwd()\n",
    "\n",
    "assert os.path.basename(current_dir) == 'services', 'Current directory is not services'\n",
    "\n",
    "# Get the parent directory. Should be the root of the repository\n",
    "parent_dir = os.path.dirname(current_dir)\n",
    "\n",
    "# The root of the repo should contain the 'software' folder. Otherwise, something went wrong.\n",
    "assert os.path.exists(os.path.join(parent_dir, 'software')), 'software folder not found in the repository root'\n",
    "\n",
    "stm_dt_software_dir = os.path.join(parent_dir, 'software')\n",
    "\n",
    "assert os.path.exists(stm_dt_software_dir), 'stm_dt/software directory not found'\n",
    "\n",
    "# Add the parent directory to sys.path\n",
    "sys.path.append(stm_dt_software_dir)\n",
    "\n",
    "# Import RPCClient class from STM DT, which makes connecting to RabbitMQ and calling remote methods easier.\n",
    "from communication.rpc_client import RPCClient\n"
   ]
  },
  {
   "cell_type": "code",
   "execution_count": 25,
   "id": "81109c5c-4f4c-463d-84f2-95ede7182801",
   "metadata": {},
   "outputs": [
    {
     "name": "stdout",
     "output_type": "stream",
     "text": [
      "2025-03-08 10:57:50.916 INFO CoordinatesAnomalyService : CoordinatesAnomalyService setup complete.\n",
      "66285\n"
     ]
    }
   ],
   "source": [
    "# You can run this, or you can run the command below in a new terminal windows to start the service\n",
    "# Start a process asynchronously\n",
    "coordinates_anomaly_service_proc = subprocess.Popen([sys.executable, \"coordinates_anomaly_service.py\"])\n",
    "\n",
    "# Wait for 5 seconds for the process to start\n",
    "time.sleep(5)\n",
    "\n",
    "# Print the PID of the process. You can search for this in your task manager to see the process running and kill it if necessary.\n",
    "print(coordinates_anomaly_service_proc.pid)"
   ]
  },
  {
   "cell_type": "code",
   "execution_count": 27,
   "id": "1ae1f588-9dae-4a91-9c40-b99d2c1e90e6",
   "metadata": {},
   "outputs": [
    {
     "name": "stdout",
     "output_type": "stream",
     "text": [
      "\n"
     ]
    }
   ],
   "source": [
    "# Print contents of log file to verify that the service is running\n",
    "with open('CoordinatesAnomalyService.log', 'r') as f:\n",
    "    print(f.read())\n",
    "\n",
    "# Check process hasn't crashed\n",
    "assert coordinates_anomaly_service_proc.poll() is None, \"CoordinatesAnomalyService process has crashed\"\n"
   ]
  },
  {
   "cell_type": "code",
   "execution_count": 29,
   "id": "f9a6563d-7a9c-4b33-9941-b7c603c1e531",
   "metadata": {},
   "outputs": [
    {
     "name": "stdout",
     "output_type": "stream",
     "text": [
      "2025-03-08 10:58:46.053 WARNING RPCServer : Method <bound method CoordinatesAnomalyService.validate_coordinates of <__main__.CoordinatesAnomalyService object at 0x104a9f230>> must declare a parameter 'reply_fun' that must be invoked to reply to an invokation.\n",
      "{'error': \"Method <bound method CoordinatesAnomalyService.validate_coordinates of <__main__.CoordinatesAnomalyService object at 0x104a9f230>> must declare a parameter 'reply_fun' that must be invoked to reply to an invokation.\"}\n"
     ]
    },
    {
     "ename": "AssertionError",
     "evalue": "Reply message does not have key 'results'",
     "output_type": "error",
     "traceback": [
      "\u001b[0;31m---------------------------------------------------------------------------\u001b[0m",
      "\u001b[0;31mAssertionError\u001b[0m                            Traceback (most recent call last)",
      "Cell \u001b[0;32mIn[29], line 10\u001b[0m\n\u001b[1;32m      8\u001b[0m     reply \u001b[38;5;241m=\u001b[39m client\u001b[38;5;241m.\u001b[39minvoke_method(\u001b[38;5;124m\"\u001b[39m\u001b[38;5;124mcoordinates.anomaly.service\u001b[39m\u001b[38;5;124m\"\u001b[39m, \u001b[38;5;124m\"\u001b[39m\u001b[38;5;124mvalidate_coordinates\u001b[39m\u001b[38;5;124m\"\u001b[39m, {\u001b[38;5;124m\"\u001b[39m\u001b[38;5;124mdata\u001b[39m\u001b[38;5;124m\"\u001b[39m: {\u001b[38;5;241m123\u001b[39m: [(\u001b[38;5;241m46.990\u001b[39m, \u001b[38;5;241m-\u001b[39m\u001b[38;5;241m78.908\u001b[39m)]}})\n\u001b[1;32m      9\u001b[0m     \u001b[38;5;28mprint\u001b[39m(reply)\n\u001b[0;32m---> 10\u001b[0m     \u001b[38;5;28;01massert\u001b[39;00m \u001b[38;5;124m'\u001b[39m\u001b[38;5;124mresults\u001b[39m\u001b[38;5;124m'\u001b[39m \u001b[38;5;129;01min\u001b[39;00m reply, \u001b[38;5;124m\"\u001b[39m\u001b[38;5;124mReply message does not have key \u001b[39m\u001b[38;5;124m'\u001b[39m\u001b[38;5;124mresults\u001b[39m\u001b[38;5;124m'\u001b[39m\u001b[38;5;124m\"\u001b[39m\n\u001b[1;32m     11\u001b[0m     \u001b[38;5;28;01massert\u001b[39;00m reply[\u001b[38;5;124m\"\u001b[39m\u001b[38;5;124mresults\u001b[39m\u001b[38;5;124m\"\u001b[39m]\u001b[38;5;241m.\u001b[39mlower() \u001b[38;5;241m==\u001b[39m \u001b[38;5;124m'\u001b[39m\u001b[38;5;124mok\u001b[39m\u001b[38;5;124m'\u001b[39m, \u001b[38;5;124m\"\u001b[39m\u001b[38;5;124mReply message key \u001b[39m\u001b[38;5;124m'\u001b[39m\u001b[38;5;124mresults\u001b[39m\u001b[38;5;124m'\u001b[39m\u001b[38;5;124m is not equal to \u001b[39m\u001b[38;5;124m'\u001b[39m\u001b[38;5;124mok\u001b[39m\u001b[38;5;124m'\u001b[39m\u001b[38;5;124m\"\u001b[39m\n\u001b[1;32m     13\u001b[0m \u001b[38;5;66;03m# Check process hasn't crashed\u001b[39;00m\n",
      "\u001b[0;31mAssertionError\u001b[0m: Reply message does not have key 'results'"
     ]
    },
    {
     "name": "stderr",
     "output_type": "stream",
     "text": [
      "Traceback (most recent call last):\n",
      "  File \"/Users/carlos_pambo/Projects/Repos/LOG6953FE-STM-DT/services/coordinates_anomaly_service.py\", line 80, in <module>\n",
      "    service.start_serving()\n",
      "  File \"/Users/carlos_pambo/Projects/Repos/LOG6953FE-STM-DT/software/communication/rpc_server.py\", line 37, in start_serving\n",
      "    self.start_consuming()\n",
      "  File \"/Users/carlos_pambo/Projects/Repos/LOG6953FE-STM-DT/software/communication/rabbitmq.py\", line 123, in start_consuming\n",
      "    self.channel.start_consuming()\n",
      "  File \"/opt/anaconda3/lib/python3.12/site-packages/pika/adapters/blocking_connection.py\", line 1883, in start_consuming\n",
      "    self._process_data_events(time_limit=None)\n",
      "  File \"/opt/anaconda3/lib/python3.12/site-packages/pika/adapters/blocking_connection.py\", line 2044, in _process_data_events\n",
      "    self.connection.process_data_events(time_limit=time_limit)\n",
      "  File \"/opt/anaconda3/lib/python3.12/site-packages/pika/adapters/blocking_connection.py\", line 842, in process_data_events\n",
      "    self._flush_output(common_terminator)\n",
      "  File \"/opt/anaconda3/lib/python3.12/site-packages/pika/adapters/blocking_connection.py\", line 514, in _flush_output\n",
      "    self._impl.ioloop.poll()\n",
      "  File \"/opt/anaconda3/lib/python3.12/site-packages/pika/adapters/select_connection.py\", line 579, in poll\n",
      "    self._poller.poll()\n",
      "  File \"/opt/anaconda3/lib/python3.12/site-packages/pika/adapters/select_connection.py\", line 1064, in poll\n",
      "    kevents = self._kqueue.control(None, 1000, self._get_max_wait())\n",
      "              ^^^^^^^^^^^^^^^^^^^^^^^^^^^^^^^^^^^^^^^^^^^^^^^^^^^^^^\n",
      "KeyboardInterrupt\n"
     ]
    }
   ],
   "source": [
    "# Now that the service is running let us send a request message to execute an operation.\n",
    "\n",
    "# Get config\n",
    "startup_conf = os.path.join(os.path.dirname(os.getcwd()), 'software', 'config', 'startup.conf')\n",
    "config = ConfigFactory.parse_file(startup_conf)\n",
    "\n",
    "with RPCClient(**(config[\"rabbitmq\"])) as client:\n",
    "    reply = client.invoke_method(\"coordinates.anomaly.service\", \"validate_coordinates\", {\"data\": {123: [(46.990, -78.908)]}})\n",
    "    print(reply)\n",
    "    assert 'results' in reply, \"Reply message does not have key 'results'\"\n",
    "    assert reply[\"results\"].lower() == 'ok', \"Reply message key 'results' is not equal to 'ok'\"\n",
    "\n",
    "# Check process hasn't crashed\n",
    "assert coordinates_anomaly_service_proc.poll() is None, \"CoordinatesAnomalyService process has crashed\"\n"
   ]
  },
  {
   "cell_type": "code",
   "execution_count": null,
   "id": "aea7b93e-b003-498b-bfee-395853bf704e",
   "metadata": {},
   "outputs": [],
   "source": []
  }
 ],
 "metadata": {
  "kernelspec": {
   "display_name": "Python 3 (ipykernel)",
   "language": "python",
   "name": "python3"
  },
  "language_info": {
   "codemirror_mode": {
    "name": "ipython",
    "version": 3
   },
   "file_extension": ".py",
   "mimetype": "text/x-python",
   "name": "python",
   "nbconvert_exporter": "python",
   "pygments_lexer": "ipython3",
   "version": "3.12.7"
  }
 },
 "nbformat": 4,
 "nbformat_minor": 5
}
